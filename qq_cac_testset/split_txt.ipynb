{
 "cells": [
  {
   "cell_type": "code",
   "id": "initial_id",
   "metadata": {
    "collapsed": true,
    "ExecuteTime": {
     "end_time": "2025-10-23T09:20:27.427455Z",
     "start_time": "2025-10-23T09:20:27.374156Z"
    }
   },
   "source": [
    "# 拆分大TXT为多个小文件（每个6000行）\n",
    "input_file = \"2020(1).txt\"    # 原始文件名\n",
    "output_prefix = \"split_lines_\" # 输出文件前缀\n",
    "lines_per_file = 4000          # 每个文件包含的行数\n",
    "\n",
    "# 读取所有行\n",
    "with open(input_file, \"r\", encoding=\"utf-8\") as f:\n",
    "    lines = f.readlines()\n",
    "\n",
    "# 计算需要拆分的份数\n",
    "total_parts = (len(lines) + lines_per_file - 1) // lines_per_file\n",
    "\n",
    "# 拆分写入\n",
    "for i in range(total_parts):\n",
    "    start = i * lines_per_file\n",
    "    end = start + lines_per_file\n",
    "    part_lines = lines[start:end]\n",
    "\n",
    "    output_filename = f\"{output_prefix}{i+1}.txt\"\n",
    "    with open(output_filename, \"w\", encoding=\"utf-8\") as f_out:\n",
    "        f_out.writelines(part_lines)\n",
    "    print(f\"✅ 生成文件: {output_filename}（第 {i+1} 份）\")\n",
    "\n",
    "print(f\"\\n全部完成！共生成 {total_parts} 个文件。\")\n"
   ],
   "outputs": [
    {
     "name": "stdout",
     "output_type": "stream",
     "text": [
      "✅ 生成文件: split_lines_1.txt（第 1 份）\n",
      "✅ 生成文件: split_lines_2.txt（第 2 份）\n",
      "✅ 生成文件: split_lines_3.txt（第 3 份）\n",
      "✅ 生成文件: split_lines_4.txt（第 4 份）\n",
      "✅ 生成文件: split_lines_5.txt（第 5 份）\n",
      "✅ 生成文件: split_lines_6.txt（第 6 份）\n",
      "✅ 生成文件: split_lines_7.txt（第 7 份）\n",
      "✅ 生成文件: split_lines_8.txt（第 8 份）\n",
      "✅ 生成文件: split_lines_9.txt（第 9 份）\n",
      "✅ 生成文件: split_lines_10.txt（第 10 份）\n",
      "\n",
      "全部完成！共生成 10 个文件。\n"
     ]
    }
   ],
   "execution_count": 1
  },
  {
   "metadata": {},
   "cell_type": "code",
   "outputs": [],
   "execution_count": null,
   "source": "",
   "id": "f2b68937f1d92371"
  }
 ],
 "metadata": {
  "kernelspec": {
   "display_name": "Python 3",
   "language": "python",
   "name": "python3"
  },
  "language_info": {
   "codemirror_mode": {
    "name": "ipython",
    "version": 2
   },
   "file_extension": ".py",
   "mimetype": "text/x-python",
   "name": "python",
   "nbconvert_exporter": "python",
   "pygments_lexer": "ipython2",
   "version": "2.7.6"
  }
 },
 "nbformat": 4,
 "nbformat_minor": 5
}
