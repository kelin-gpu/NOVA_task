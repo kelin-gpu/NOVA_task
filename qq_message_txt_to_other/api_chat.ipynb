{
 "cells": [
  {
   "cell_type": "code",
   "id": "initial_id",
   "metadata": {
    "ExecuteTime": {
     "end_time": "2025-10-21T14:35:28.190212Z",
     "start_time": "2025-10-21T14:35:27.513523Z"
    }
   },
   "source": [
    "import os\n",
    "from openai import OpenAI"
   ],
   "outputs": [],
   "execution_count": 1
  },
  {
   "metadata": {
    "ExecuteTime": {
     "end_time": "2025-10-21T14:35:33.707255Z",
     "start_time": "2025-10-21T14:35:33.694279Z"
    }
   },
   "cell_type": "code",
   "source": "os.environ[\"DASHSCOPE_API_KEY\"] = \"\"  # 您的百炼API Key",
   "id": "cad4633036294b67",
   "outputs": [],
   "execution_count": 2
  },
  {
   "metadata": {
    "ExecuteTime": {
     "end_time": "2025-10-21T14:35:34.154892Z",
     "start_time": "2025-10-21T14:35:34.147253Z"
    }
   },
   "cell_type": "code",
   "source": [
    "prompt = f\"\"\"\n",
    "你是一名高效的信息分析助手，任务是从聊天记录中提取出所有与“重要事件”、“任务安排”、“截止日期（DDL）”、“会议”、“作业提交”、“项目进展”相关的信息，并生成一份清晰简洁的通知摘要。\n",
    "\n",
    "请遵循以下要求：\n",
    "1. 从原始聊天内容中提取所有有明确时间、任务、事件的内容（包括隐含的日期/时间）。\n",
    "2. 使用清晰的条目或编号列表，按时间顺序排列。\n",
    "3. 每个事件请包含以下信息：\n",
    "   - 【事件内容】\n",
    "   - 【截止时间 / 发生时间】（若未明确给出，请根据上下文合理推测并标记为“可能”）\n",
    "   - 【责任人或相关人员】（如有）\n",
    "4. 输出一份简洁的“通知摘要”，语言应正式、清晰，适合直接发送给团队成员。\n",
    "5. 输出格式示例：\n",
    "\n",
    "---\n",
    "**通知摘要：**\n",
    "\n",
    "1. 🕓 【事件】提交《人工智能实验报告》\n",
    "   - 截止时间：10月22日 23:59\n",
    "   - 责任人：全体同学\n",
    "\n",
    "2. 📅 【事件】项目组会议\n",
    "   - 时间：10月24日下午2点\n",
    "   - 参与人：A、B、C\n",
    "\"\"\""
   ],
   "id": "154214dd1da22cdf",
   "outputs": [],
   "execution_count": 3
  },
  {
   "metadata": {
    "ExecuteTime": {
     "end_time": "2025-10-21T14:35:35.329564Z",
     "start_time": "2025-10-21T14:35:35.315518Z"
    }
   },
   "cell_type": "code",
   "source": [
    "def call_qwen_model(message):\n",
    "    # 初始化客户端\n",
    "    client = OpenAI(\n",
    "        api_key=os.getenv(\"DASHSCOPE_API_KEY\"),\n",
    "        base_url=\"https://dashscope.aliyuncs.com/compatible-mode/v1\",\n",
    "    )\n",
    "\n",
    "    # 调用模型\n",
    "    completion = client.chat.completions.create(\n",
    "        model=\"qwen-plus\",  # 也可以尝试 \"qwen-turbo\" 或 \"qwen-max\"\n",
    "        messages=[\n",
    "            {\"role\": \"system\", \"content\": prompt},\n",
    "            {\"role\": \"user\", \"content\":  f\"以下是聊天记录，请生成通知摘要：\\n\\n{message}\"},\n",
    "        ],\n",
    "        temperature=0.5,\n",
    "        max_tokens=1000,\n",
    "    )\n",
    "\n",
    "    # 提取模型输出\n",
    "    x = completion.choices[0].message.content.strip()\n",
    "    return x"
   ],
   "id": "c572554a13438af2",
   "outputs": [],
   "execution_count": 4
  },
  {
   "metadata": {
    "ExecuteTime": {
     "end_time": "2025-10-21T14:36:52.691075Z",
     "start_time": "2025-10-21T14:35:49.524969Z"
    }
   },
   "cell_type": "code",
   "source": [
    "if __name__ == \"__main__\":\n",
    "    # === 1️⃣ 从 txt 文件中读取内容 ===\n",
    "    txt_path = r\"D:\\google_dl\\Nova\\nova_qq_message\\qq_message_txt_to_other\\2025级健雄书院新生QQ群.txt\"  # 你的 txt 文件路径\n",
    "    with open(txt_path, \"r\", encoding=\"utf-8\") as f:\n",
    "        message = f.read().strip()\n",
    "\n",
    "    # === 2️⃣ 调用模型 ===\n",
    "    result = call_qwen_model(message)\n",
    "\n",
    "    # === 3️⃣ 输出结果 ===\n",
    "    print(\"模型输出结果：\", result)"
   ],
   "id": "a5d75df6821a7d5c",
   "outputs": [
    {
     "name": "stdout",
     "output_type": "stream",
     "text": [
      "模型输出结果： **通知摘要：**\n",
      "\n",
      "以下为根据聊天记录整理的重要通知与事项汇总，请同学们注意查看并按时完成相关任务。\n",
      "\n",
      "---\n",
      "\n",
      "### 📢 **一、重要通知与安排**\n",
      "1. **军训相关安排（2025年8月31日）**\n",
      "   - 军训期间需全程规范穿着军训服（9月1日上午解读会除外），戴帽子、扎腰带，穿训练鞋。\n",
      "   - 集合地点将由各排副排长举牌指引，具体位置后续通知。\n",
      "   - 如有特殊情况需申请**半训、缓训或补训**，请填写《南京大学军训半训、缓训、补训申请表》，并附病例等材料，于9月1日上午大礼堂报到时提交。\n",
      "   - 临时请假须提前联系赵娟老师（18625186532）或邹老师（18851174727），获批后填写《军训请假条》并签字，同时告知所在排副排长。\n",
      "   - **禁止私下联系教官、拍摄教官照片或视频**，违反纪律将严肃处理。\n",
      "\n",
      "2. **国家安全教育考试（截止时间：10月10日23:59）**\n",
      "   - 尚未完成的同学请尽快完成考试，逾期未完成将影响后续选课。\n",
      "   - 完成后请私信赵娟老师确认。\n",
      "\n",
      "3. **心理普查安排（2025年10月12日 上午9:00）**\n",
      "   - 健雄书院心理普查时间为**10月12日上午9点**，地点为四楼机房。\n",
      "   - 建议从一二三食堂两侧楼梯步行上楼，避免拥堵。\n",
      "   - 若与课程冲突，请及时反馈。\n",
      "\n",
      "4. **学生登记表填报（截止时间：10月17日14:00）**\n",
      "   - 所有同学需在【南京大学APP-学生基本信息】中完善个人信息。\n",
      "   - 档案信息一旦打印不可更改，请务必认真、如实填写。\n",
      "\n",
      "5. **晚点名要求（2025年10月8日）**\n",
      "   - 各宿舍长须于当晚10:00前在“晚点名table”表格中填报全体成员在寝情况。\n",
      "   - 未返校者需联系确认原因，并上报辅导员。\n",
      "\n",
      "---\n",
      "\n",
      "### 🎯 **二、活动与报名信息**\n",
      "1. **朋辈导学分享会（10月19日 15:00）**\n",
      "   - 主题：自动化与集成电路专业分享\n",
      "   - 地点：教121\n",
      "   - 线下参与可获**智育时长**，线上参会无时长。\n",
      "   - 腾讯会议链接已提供，无需报名即可观看直播。\n",
      "\n",
      "2. **校运会预报名（截止时间：10月20日23:59）**\n",
      "   - 报名链接更新：[点击进入新报名表](https://table.nju.edu.cn/dtable/forms/2129529b-c43c-42f1-bcbb-12af7a86eb64/)\n",
      "   - 每人限报两个单项，接力项目由选拔决定。\n",
      "   - 铅球、跳高、男生跨栏项目按上报成绩初步筛选，请如实填写。\n",
      "   - 书院内选拔将于10月20日后择日进行（可能在清晨或晚间）。\n",
      "\n",
      "3. **开幕式方队招募（截止时间：10月23日12:00）**\n",
      "   - 招募60-80人，参与可获**体育时长**及**免费院服**。\n",
      "   - 已报名广播体操或团体操者不可兼报。\n",
      "   - 报名链接：[点击报名](https://table.nju.edu.cn/dtable/forms/e679cd66-ca4f-4ef8-a013-19eb8f0d4b3d/)\n",
      "\n",
      "4. **广播体操补招（3人）**\n",
      "   - 参与可累计**五育体育时长**，获奖另有奖励。\n",
      "   - 有意者请私戳冯冰玉。\n",
      "\n",
      "5. **健雄书院院服设计大赛启动**\n",
      "   - 创意被采纳者将获得丰厚奖励。\n",
      "   - 院服将发放给参加校运会入场式、广播操、田径比赛的同学，其余同学可自费购买。\n",
      "\n",
      "6. **其他社团招募**\n",
      "   - **足球队**：队长冼文\n"
     ]
    }
   ],
   "execution_count": 6
  },
  {
   "metadata": {},
   "cell_type": "code",
   "outputs": [],
   "execution_count": null,
   "source": "",
   "id": "13143f58c2d233dc"
  }
 ],
 "metadata": {
  "kernelspec": {
   "display_name": "Python 3",
   "language": "python",
   "name": "python3"
  },
  "language_info": {
   "codemirror_mode": {
    "name": "ipython",
    "version": 2
   },
   "file_extension": ".py",
   "mimetype": "text/x-python",
   "name": "python",
   "nbconvert_exporter": "python",
   "pygments_lexer": "ipython2",
   "version": "2.7.6"
  }
 },
 "nbformat": 4,
 "nbformat_minor": 5
}
